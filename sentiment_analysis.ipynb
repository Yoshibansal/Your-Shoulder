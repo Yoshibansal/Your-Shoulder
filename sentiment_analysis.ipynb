{
 "cells": [
  {
   "cell_type": "markdown",
   "id": "79269706",
   "metadata": {},
   "source": [
    "# Sentiment Analysis using text data\n",
    "\n",
    "Multiclass Classification\n",
    "\n",
    "5 Classes -> Sadness, Anger, Love, Fear, Joy"
   ]
  },
  {
   "cell_type": "markdown",
   "id": "24f5e7bc",
   "metadata": {},
   "source": [
    "# Part 1\n",
    "\n",
    "Text preprocessing"
   ]
  },
  {
   "cell_type": "code",
   "execution_count": 1,
   "id": "5e1ee383-b1d4-42c5-a59d-275991d95180",
   "metadata": {},
   "outputs": [],
   "source": [
    "# importing the libraries\n",
    "import numpy as np\n",
    "import pandas as pd\n",
    "import math\n",
    "\n",
    "import matplotlib.pyplot as plt\n",
    "import seaborn as sns"
   ]
  },
  {
   "cell_type": "code",
   "execution_count": 2,
   "id": "22a79226-5f7b-4985-9e9a-be4b91498daa",
   "metadata": {},
   "outputs": [
    {
     "name": "stdout",
     "output_type": "stream",
     "text": [
      "TRAIN Dataset\n",
      "                                            sentence      tag\n",
      "0                            i didnt feel humiliated  sadness\n",
      "1  i can go from feeling so hopeless to so damned...  sadness\n",
      "2   im grabbing a minute to post i feel greedy wrong    anger\n",
      "3  i am ever feeling nostalgic about the fireplac...     love\n",
      "4                               i am feeling grouchy    anger\n",
      "\n",
      "TEST Dataset\n",
      "                                            sentence      tag\n",
      "0  im feeling rather rotten so im not very ambiti...  sadness\n",
      "1          im updating my blog because i feel shitty  sadness\n",
      "2  i never make her separate from me because i do...  sadness\n",
      "3  i left with my bouquet of red and yellow tulip...      joy\n",
      "4    i was feeling a little vain when i did this one  sadness\n",
      "\n",
      "VALIDATION Dataset\n",
      "                                            sentence      tag\n",
      "0  im feeling quite sad and sorry for myself but ...  sadness\n",
      "1  i feel like i am still looking at a blank canv...  sadness\n",
      "2                     i feel like a faithful servant     love\n",
      "3                  i am just feeling cranky and blue    anger\n",
      "4  i can have for a treat or if i am feeling festive      joy\n"
     ]
    }
   ],
   "source": [
    "# reading dataset from the files\n",
    "\n",
    "print(\"TRAIN Dataset\")\n",
    "df_train = pd.read_csv('emotions/train.txt', sep=';', names=['sentence', 'tag'])\n",
    "print(df_train.head())\n",
    "\n",
    "print()\n",
    "print(\"TEST Dataset\")\n",
    "df_test = pd.read_csv('emotions/test.txt', sep=';', names=['sentence', 'tag'])\n",
    "print(df_test.head())\n",
    "\n",
    "print()\n",
    "print(\"VALIDATION Dataset\")\n",
    "df_val = pd.read_csv('emotions/val.txt', sep=';', names=['sentence', 'tag'])\n",
    "print(df_val.head())"
   ]
  },
  {
   "cell_type": "code",
   "execution_count": 3,
   "id": "80498d18-1f3b-4906-b9a2-55a991ab4f9a",
   "metadata": {},
   "outputs": [
    {
     "data": {
      "text/plain": [
       "array(['sadness', 'anger', 'love', 'surprise', 'fear', 'joy'],\n",
       "      dtype=object)"
      ]
     },
     "execution_count": 3,
     "metadata": {},
     "output_type": "execute_result"
    }
   ],
   "source": [
    "#printing unique elements (classes)\n",
    "df_train['tag'].unique()"
   ]
  },
  {
   "cell_type": "code",
   "execution_count": 4,
   "id": "eb68e47d-7ef1-4506-b358-0618664bd718",
   "metadata": {},
   "outputs": [
    {
     "data": {
      "text/plain": [
       "joy         5362\n",
       "sadness     4666\n",
       "anger       2159\n",
       "fear        1937\n",
       "love        1304\n",
       "surprise     572\n",
       "Name: tag, dtype: int64"
      ]
     },
     "execution_count": 4,
     "metadata": {},
     "output_type": "execute_result"
    }
   ],
   "source": [
    "#count the number of examples of each class\n",
    "df_train['tag'].value_counts()"
   ]
  },
  {
   "cell_type": "code",
   "execution_count": 5,
   "id": "102ad805-4ff4-4729-a7ef-30eeaa1c3901",
   "metadata": {},
   "outputs": [
    {
     "name": "stdout",
     "output_type": "stream",
     "text": [
      "<class 'pandas.core.frame.DataFrame'>\n",
      "RangeIndex: 16000 entries, 0 to 15999\n",
      "Data columns (total 2 columns):\n",
      " #   Column    Non-Null Count  Dtype \n",
      "---  ------    --------------  ----- \n",
      " 0   sentence  16000 non-null  object\n",
      " 1   tag       16000 non-null  object\n",
      "dtypes: object(2)\n",
      "memory usage: 250.1+ KB\n"
     ]
    }
   ],
   "source": [
    "# checking for null values\n",
    "df_train.info()"
   ]
  },
  {
   "cell_type": "code",
   "execution_count": 6,
   "id": "f787f11e-5e84-4ea5-9c89-aedec7b2e8ef",
   "metadata": {},
   "outputs": [
    {
     "data": {
      "image/png": "[encoded data removed]",
      "text/plain": [
       "<Figure size 432x288 with 1 Axes>"
      ]
     },
     "metadata": {
      "needs_background": "light"
     },
     "output_type": "display_data"
    }
   ],
   "source": [
    "#ploting the number of examples for each sample\n",
    "ax = sns.countplot(x = df_train.tag)\n",
    "ax.set_xlabel(\"emotions\")\n",
    "ax.set_ylabel(\"Value Count\")\n",
    "\n",
    "plt.show()"
   ]
  },
  {
   "cell_type": "code",
   "execution_count": 7,
   "id": "b9534f8f-8e19-47ab-b473-c7114672f4f1",
   "metadata": {},
   "outputs": [
    {
     "name": "stdout",
     "output_type": "stream",
     "text": [
      "(15428, 2)\n",
      "                                            sentence      tag\n",
      "0                            i didnt feel humiliated  sadness\n",
      "1  i can go from feeling so hopeless to so damned...  sadness\n",
      "2   im grabbing a minute to post i feel greedy wrong    anger\n",
      "3  i am ever feeling nostalgic about the fireplac...     love\n",
      "4                               i am feeling grouchy    anger\n"
     ]
    }
   ],
   "source": [
    "# Very less dataset for surprise, hence neglect the surprise class\n",
    "INTERESTED_LABELS = ['sadness', 'anger', 'love', 'fear', 'joy']\n",
    "df_train = df_train[df_train.tag.isin(INTERESTED_LABELS)]\n",
    "print(df_train.shape)\n",
    "print(df_train.head())"
   ]
  },
  {
   "cell_type": "code",
   "execution_count": 8,
   "id": "74c206aa-c9a5-4ffe-b09c-b0cc6a9c608e",
   "metadata": {},
   "outputs": [
    {
     "data": {
      "image/png": "[encoded data removed]",
      "text/plain": [
       "<Figure size 432x288 with 1 Axes>"
      ]
     },
     "metadata": {
      "needs_background": "light"
     },
     "output_type": "display_data"
    }
   ],
   "source": [
    "ax = sns.countplot(x = df_train.tag)\n",
    "ax.set_xlabel(\"emotions\")\n",
    "ax.set_ylabel(\"Value Count\")\n",
    "\n",
    "plt.show()"
   ]
  },
  {
   "cell_type": "code",
   "execution_count": 9,
   "id": "983bdeeb-40f9-4629-b355-1360f755cf42",
   "metadata": {},
   "outputs": [
    {
     "data": {
      "text/plain": [
       "'!\"#$%&\\'()*+,-./:;<=>?@[\\\\]^_`{|}~'"
      ]
     },
     "execution_count": 9,
     "metadata": {},
     "output_type": "execute_result"
    }
   ],
   "source": [
    "# Remove punctuations\n",
    "# library that contains punctuation\n",
    "import string\n",
    "string.punctuation"
   ]
  },
  {
   "cell_type": "code",
   "execution_count": 10,
   "id": "d1fb990f-2f8a-4c69-bfa9-905a61b98617",
   "metadata": {},
   "outputs": [
    {
     "data": {
      "text/html": [
       "<div>\n",
       "<style scoped>\n",
       "    .dataframe tbody tr th:only-of-type {\n",
       "        vertical-align: middle;\n",
       "    }\n",
       "\n",
       "    .dataframe tbody tr th {\n",
       "        vertical-align: top;\n",
       "    }\n",
       "\n",
       "    .dataframe thead th {\n",
       "        text-align: right;\n",
       "    }\n",
       "</style>\n",
       "<table border=\"1\" class=\"dataframe\">\n",
       "  <thead>\n",
       "    <tr style=\"text-align: right;\">\n",
       "      <th></th>\n",
       "      <th>sentence</th>\n",
       "      <th>tag</th>\n",
       "      <th>clean_sen</th>\n",
       "    </tr>\n",
       "  </thead>\n",
       "  <tbody>\n",
       "    <tr>\n",
       "      <th>0</th>\n",
       "      <td>i didnt feel humiliated</td>\n",
       "      <td>sadness</td>\n",
       "      <td>i didnt feel humiliated</td>\n",
       "    </tr>\n",
       "    <tr>\n",
       "      <th>1</th>\n",
       "      <td>i can go from feeling so hopeless to so damned...</td>\n",
       "      <td>sadness</td>\n",
       "      <td>i can go from feeling so hopeless to so damned...</td>\n",
       "    </tr>\n",
       "    <tr>\n",
       "      <th>2</th>\n",
       "      <td>im grabbing a minute to post i feel greedy wrong</td>\n",
       "      <td>anger</td>\n",
       "      <td>im grabbing a minute to post i feel greedy wrong</td>\n",
       "    </tr>\n",
       "    <tr>\n",
       "      <th>3</th>\n",
       "      <td>i am ever feeling nostalgic about the fireplac...</td>\n",
       "      <td>love</td>\n",
       "      <td>i am ever feeling nostalgic about the fireplac...</td>\n",
       "    </tr>\n",
       "    <tr>\n",
       "      <th>4</th>\n",
       "      <td>i am feeling grouchy</td>\n",
       "      <td>anger</td>\n",
       "      <td>i am feeling grouchy</td>\n",
       "    </tr>\n",
       "  </tbody>\n",
       "</table>\n",
       "</div>"
      ],
      "text/plain": [
       "                                            sentence      tag  \\\n",
       "0                            i didnt feel humiliated  sadness   \n",
       "1  i can go from feeling so hopeless to so damned...  sadness   \n",
       "2   im grabbing a minute to post i feel greedy wrong    anger   \n",
       "3  i am ever feeling nostalgic about the fireplac...     love   \n",
       "4                               i am feeling grouchy    anger   \n",
       "\n",
       "                                           clean_sen  \n",
       "0                            i didnt feel humiliated  \n",
       "1  i can go from feeling so hopeless to so damned...  \n",
       "2   im grabbing a minute to post i feel greedy wrong  \n",
       "3  i am ever feeling nostalgic about the fireplac...  \n",
       "4                               i am feeling grouchy  "
      ]
     },
     "execution_count": 10,
     "metadata": {},
     "output_type": "execute_result"
    }
   ],
   "source": [
    "#defining the function to remove punctuation\n",
    "def remove_punctuation(text):\n",
    "    punctuationfree=\"\".join([i for i in text if i not in string.punctuation])\n",
    "    return punctuationfree\n",
    "\n",
    "#storing the puntuation free text\n",
    "df_train['clean_sen']= df_train['sentence'].apply(lambda x:remove_punctuation(x))\n",
    "df_train.head()"
   ]
  },
  {
   "cell_type": "code",
   "execution_count": 11,
   "id": "bb722ae1-d843-440e-957e-ab488967559c",
   "metadata": {},
   "outputs": [
    {
     "name": "stdout",
     "output_type": "stream",
     "text": [
      "['accurate', 'accurately', 'accused', 'accuser', 'accusing', 'accustomed', 'ace', 'ache', 'ached', 'acheivment', 'aches', 'achieve', 'achieved', 'achievement', 'achievements', 'achieving', 'aching', 'achy', 'acim', 'acker', 'acknowledge', 'acknowledged', 'acknowledgement', 'acknowledgment', 'acne', 'aconfident', 'acquaint', 'acquaintances', 'acquainted', 'acquire', 'acronym', 'across', 'act', 'actauly', 'acted', 'acting', 'action', 'actions', 'activations', 'active', 'actively', 'activism', 'activist', 'activities', 'activity', 'actor', 'actors', 'actresses', 'acts', 'actual']\n"
     ]
    },
    {
     "name": "stderr",
     "output_type": "stream",
     "text": [
      "/Library/Frameworks/Python.framework/Versions/3.10/lib/python3.10/site-packages/sklearn/utils/deprecation.py:87: FutureWarning: Function get_feature_names is deprecated; get_feature_names is deprecated in 1.0 and will be removed in 1.2. Please use get_feature_names_out instead.\n",
      "  warnings.warn(msg, category=FutureWarning)\n"
     ]
    }
   ],
   "source": [
    "# BoW Encoding (Count Vectorizer)\n",
    "from sklearn.feature_extraction.text import CountVectorizer\n",
    "\n",
    "vectorizer = CountVectorizer()\n",
    "X = vectorizer.fit_transform(df_train.clean_sen)\n",
    "print(vectorizer.get_feature_names()[100:150])"
   ]
  },
  {
   "cell_type": "code",
   "execution_count": 12,
   "id": "cae11024-31e9-42b2-a5f8-bceb5984e5d5",
   "metadata": {},
   "outputs": [
    {
     "data": {
      "text/plain": [
       "(15428, 14891)"
      ]
     },
     "execution_count": 12,
     "metadata": {},
     "output_type": "execute_result"
    }
   ],
   "source": [
    "X.toarray().shape"
   ]
  },
  {
   "cell_type": "code",
   "execution_count": 13,
   "id": "dc6c7600-ec1a-4985-a654-aa591d6224b8",
   "metadata": {},
   "outputs": [
    {
     "name": "stdout",
     "output_type": "stream",
     "text": [
      "True\n"
     ]
    }
   ],
   "source": [
    "print(1 in X.toarray())"
   ]
  },
  {
   "cell_type": "code",
   "execution_count": 14,
   "id": "7a41aaac-173d-4e6b-afe5-173ef0038503",
   "metadata": {},
   "outputs": [
    {
     "data": {
      "text/plain": [
       "(array([ 0,  1,  2,  3,  4,  5,  6,  7,  8,  9, 10]),\n",
       " array([229498022,    222209,     15067,      2415,       467,       118,\n",
       "               34,        11,         1,         1,         3]))"
      ]
     },
     "execution_count": 14,
     "metadata": {},
     "output_type": "execute_result"
    }
   ],
   "source": [
    "np.unique(X.toarray(), return_counts=True)"
   ]
  },
  {
   "cell_type": "code",
   "execution_count": 15,
   "id": "25742894-efe3-4f78-8815-33ba3ac4517b",
   "metadata": {},
   "outputs": [
    {
     "name": "stdout",
     "output_type": "stream",
     "text": [
      "                                            sentence  tag  \\\n",
      "0                            i didnt feel humiliated    4   \n",
      "1  i can go from feeling so hopeless to so damned...    4   \n",
      "2   im grabbing a minute to post i feel greedy wrong    0   \n",
      "3  i am ever feeling nostalgic about the fireplac...    3   \n",
      "4                               i am feeling grouchy    0   \n",
      "\n",
      "                                           clean_sen  \n",
      "0                            i didnt feel humiliated  \n",
      "1  i can go from feeling so hopeless to so damned...  \n",
      "2   im grabbing a minute to post i feel greedy wrong  \n",
      "3  i am ever feeling nostalgic about the fireplac...  \n",
      "4                               i am feeling grouchy  \n",
      "(15428,)\n"
     ]
    }
   ],
   "source": [
    "# label encoder for tag column\n",
    "def encoder(df, col):\n",
    "    df[col] = df[col].astype('category')\n",
    "    df[col] = df[col].cat.codes\n",
    "    return df\n",
    "\n",
    "df_train = encoder(df_train, 'tag')\n",
    "print(df_train.head())\n",
    "\n",
    "y = df_train.tag\n",
    "print(y.shape)"
   ]
  },
  {
   "cell_type": "code",
   "execution_count": 16,
   "id": "d48cbf44-1246-4999-b7d3-f49d655daf4d",
   "metadata": {},
   "outputs": [],
   "source": [
    "# convert X to an numpy array\n",
    "X = X.toarray()"
   ]
  },
  {
   "cell_type": "code",
   "execution_count": 17,
   "id": "903799c2-0057-4894-9eb4-f3f733c6ae07",
   "metadata": {},
   "outputs": [
    {
     "data": {
      "text/plain": [
       "(array([[0, 0, 0, ..., 0, 0, 0],\n",
       "        [0, 0, 0, ..., 0, 0, 0],\n",
       "        [0, 0, 0, ..., 0, 0, 0],\n",
       "        ...,\n",
       "        [0, 0, 0, ..., 0, 0, 0],\n",
       "        [0, 0, 0, ..., 0, 0, 0],\n",
       "        [0, 0, 0, ..., 0, 0, 0]]),\n",
       " 0        4\n",
       " 1        4\n",
       " 2        0\n",
       " 3        3\n",
       " 4        0\n",
       "         ..\n",
       " 15995    4\n",
       " 15996    4\n",
       " 15997    2\n",
       " 15998    0\n",
       " 15999    4\n",
       " Name: tag, Length: 15428, dtype: int8)"
      ]
     },
     "execution_count": 17,
     "metadata": {},
     "output_type": "execute_result"
    }
   ],
   "source": [
    "X, y"
   ]
  },
  {
   "cell_type": "markdown",
   "id": "86f4272b",
   "metadata": {},
   "source": [
    "# Part 2\n",
    "\n",
    "Model (Building and Training)"
   ]
  },
  {
   "cell_type": "code",
   "execution_count": 18,
   "id": "79cfa9ca-79d1-488c-aa72-98e676ec780e",
   "metadata": {},
   "outputs": [
    {
     "name": "stderr",
     "output_type": "stream",
     "text": [
      "/Library/Frameworks/Python.framework/Versions/3.10/lib/python3.10/site-packages/sklearn/linear_model/_logistic.py:814: ConvergenceWarning: lbfgs failed to converge (status=1):\n",
      "STOP: TOTAL NO. of ITERATIONS REACHED LIMIT.\n",
      "\n",
      "Increase the number of iterations (max_iter) or scale the data as shown in:\n",
      "    https://scikit-learn.org/stable/modules/preprocessing.html\n",
      "Please also refer to the documentation for alternative solver options:\n",
      "    https://scikit-learn.org/stable/modules/linear_model.html#logistic-regression\n",
      "  n_iter_i = _check_optimize_result(\n"
     ]
    },
    {
     "name": "stdout",
     "output_type": "stream",
     "text": [
      "Accuracy:  0.9888514389421831\n"
     ]
    }
   ],
   "source": [
    "# importing Logistic Regression from sklearn\n",
    "from sklearn.linear_model import LogisticRegression\n",
    "from sklearn import metrics\n",
    "\n",
    "# defining and training the model\n",
    "clf = LogisticRegression(random_state=0).fit(X, y)\n",
    "\n",
    "#Accuracy of trained model\n",
    "print(\"Accuracy: \", clf.score(X, y))"
   ]
  },
  {
   "cell_type": "code",
   "execution_count": 19,
   "id": "6d73ee00-a1cd-4afa-a701-7b9baf949827",
   "metadata": {},
   "outputs": [
    {
     "name": "stdout",
     "output_type": "stream",
     "text": [
      "Train accuracy (98.8851438942183, 0) %\n"
     ]
    }
   ],
   "source": [
    "# making predictions\n",
    "y_pred = clf.predict(X)\n",
    "\n",
    "# accuracy on training data\n",
    "scoreTrain = clf.score(X, y)\n",
    "print(f\"Train accuracy {scoreTrain * 100,0} %\")"
   ]
  },
  {
   "cell_type": "code",
   "execution_count": 20,
   "id": "94a7e917-b359-498d-82a1-8c5f660168f6",
   "metadata": {},
   "outputs": [
    {
     "name": "stdout",
     "output_type": "stream",
     "text": [
      "Root MSE =  0.2563682048709592\n"
     ]
    }
   ],
   "source": [
    "# Calculating Root mean Squared error of the model\n",
    "print('Root MSE = ', math.sqrt(metrics.mean_squared_error(y, y_pred)))"
   ]
  },
  {
   "cell_type": "code",
   "execution_count": 21,
   "id": "05e19b2f-ab26-417e-8361-c6d2e899af8e",
   "metadata": {},
   "outputs": [
    {
     "name": "stdout",
     "output_type": "stream",
     "text": [
      "Intercept =  [ 0.17543988 -0.11293108  0.75130644 -1.36911096  0.55529572]\n"
     ]
    }
   ],
   "source": [
    "# Intercept\n",
    "print('Intercept = ', clf.intercept_)"
   ]
  },
  {
   "cell_type": "code",
   "execution_count": 22,
   "id": "28b801aa-e4d3-45dc-b84a-ccc9d3bc9e1d",
   "metadata": {},
   "outputs": [
    {
     "name": "stdout",
     "output_type": "stream",
     "text": [
      "Confusion = \n",
      "[[2122    9    3    0   25]\n",
      " [  14 1910    3    0   10]\n",
      " [   1    7 5321   22   11]\n",
      " [   2    0   31 1270    1]\n",
      " [  15   10    7    1 4633]]\n"
     ]
    }
   ],
   "source": [
    "# Confusion metrix \n",
    "print('Confusion = \\n{}'.format(metrics.confusion_matrix(y, y_pred, labels=[0,1,2,3,4])))"
   ]
  },
  {
   "cell_type": "code",
   "execution_count": 23,
   "id": "84ec56d5-5b09-46e2-8dd4-f63e7bbc7605",
   "metadata": {},
   "outputs": [
    {
     "name": "stdout",
     "output_type": "stream",
     "text": [
      "              precision    recall  f1-score   support\n",
      "\n",
      "           0       0.99      0.98      0.98      2159\n",
      "           1       0.99      0.99      0.99      1937\n",
      "           2       0.99      0.99      0.99      5362\n",
      "           3       0.98      0.97      0.98      1304\n",
      "           4       0.99      0.99      0.99      4666\n",
      "\n",
      "    accuracy                           0.99     15428\n",
      "   macro avg       0.99      0.99      0.99     15428\n",
      "weighted avg       0.99      0.99      0.99     15428\n",
      "\n"
     ]
    }
   ],
   "source": [
    "# Classification report (precision, recall, f1-score)\n",
    "from sklearn.metrics import classification_report\n",
    "\n",
    "print(classification_report(y, y_pred))"
   ]
  },
  {
   "cell_type": "markdown",
   "id": "c1f9c7a7",
   "metadata": {},
   "source": [
    "# Part 3\n",
    "\n",
    "Testing"
   ]
  },
  {
   "cell_type": "code",
   "execution_count": 24,
   "id": "8ccc3fc1-34b9-41e5-ab99-72a1df32304d",
   "metadata": {},
   "outputs": [
    {
     "name": "stdout",
     "output_type": "stream",
     "text": [
      "<class 'pandas.core.frame.DataFrame'>\n",
      "RangeIndex: 2000 entries, 0 to 1999\n",
      "Data columns (total 2 columns):\n",
      " #   Column    Non-Null Count  Dtype \n",
      "---  ------    --------------  ----- \n",
      " 0   sentence  2000 non-null   object\n",
      " 1   tag       2000 non-null   object\n",
      "dtypes: object(2)\n",
      "memory usage: 31.4+ KB\n"
     ]
    }
   ],
   "source": [
    "# checking test data for null values\n",
    "df_test.info()"
   ]
  },
  {
   "cell_type": "code",
   "execution_count": 25,
   "id": "8c96df9f-e062-48c1-a8e1-beed612be706",
   "metadata": {},
   "outputs": [
    {
     "name": "stdout",
     "output_type": "stream",
     "text": [
      "(1934, 2)\n",
      "                                            sentence      tag\n",
      "0  im feeling rather rotten so im not very ambiti...  sadness\n",
      "1          im updating my blog because i feel shitty  sadness\n",
      "2  i never make her separate from me because i do...  sadness\n",
      "3  i left with my bouquet of red and yellow tulip...      joy\n",
      "4    i was feeling a little vain when i did this one  sadness\n"
     ]
    }
   ],
   "source": [
    "# Very less dataset for surprise\n",
    "INTERESTED_LABELS = ['sadness', 'anger', 'love', 'fear', 'joy']\n",
    "df_test = df_test[df_test.tag.isin(INTERESTED_LABELS)]\n",
    "print(df_test.shape)\n",
    "print(df_test.head())"
   ]
  },
  {
   "cell_type": "code",
   "execution_count": 26,
   "id": "0e88f8a9-d661-446c-988f-23960b42f22a",
   "metadata": {},
   "outputs": [
    {
     "data": {
      "text/html": [
       "<div>\n",
       "<style scoped>\n",
       "    .dataframe tbody tr th:only-of-type {\n",
       "        vertical-align: middle;\n",
       "    }\n",
       "\n",
       "    .dataframe tbody tr th {\n",
       "        vertical-align: top;\n",
       "    }\n",
       "\n",
       "    .dataframe thead th {\n",
       "        text-align: right;\n",
       "    }\n",
       "</style>\n",
       "<table border=\"1\" class=\"dataframe\">\n",
       "  <thead>\n",
       "    <tr style=\"text-align: right;\">\n",
       "      <th></th>\n",
       "      <th>sentence</th>\n",
       "      <th>tag</th>\n",
       "      <th>clean_sen</th>\n",
       "    </tr>\n",
       "  </thead>\n",
       "  <tbody>\n",
       "    <tr>\n",
       "      <th>0</th>\n",
       "      <td>im feeling rather rotten so im not very ambiti...</td>\n",
       "      <td>sadness</td>\n",
       "      <td>im feeling rather rotten so im not very ambiti...</td>\n",
       "    </tr>\n",
       "    <tr>\n",
       "      <th>1</th>\n",
       "      <td>im updating my blog because i feel shitty</td>\n",
       "      <td>sadness</td>\n",
       "      <td>im updating my blog because i feel shitty</td>\n",
       "    </tr>\n",
       "    <tr>\n",
       "      <th>2</th>\n",
       "      <td>i never make her separate from me because i do...</td>\n",
       "      <td>sadness</td>\n",
       "      <td>i never make her separate from me because i do...</td>\n",
       "    </tr>\n",
       "    <tr>\n",
       "      <th>3</th>\n",
       "      <td>i left with my bouquet of red and yellow tulip...</td>\n",
       "      <td>joy</td>\n",
       "      <td>i left with my bouquet of red and yellow tulip...</td>\n",
       "    </tr>\n",
       "    <tr>\n",
       "      <th>4</th>\n",
       "      <td>i was feeling a little vain when i did this one</td>\n",
       "      <td>sadness</td>\n",
       "      <td>i was feeling a little vain when i did this one</td>\n",
       "    </tr>\n",
       "  </tbody>\n",
       "</table>\n",
       "</div>"
      ],
      "text/plain": [
       "                                            sentence      tag  \\\n",
       "0  im feeling rather rotten so im not very ambiti...  sadness   \n",
       "1          im updating my blog because i feel shitty  sadness   \n",
       "2  i never make her separate from me because i do...  sadness   \n",
       "3  i left with my bouquet of red and yellow tulip...      joy   \n",
       "4    i was feeling a little vain when i did this one  sadness   \n",
       "\n",
       "                                           clean_sen  \n",
       "0  im feeling rather rotten so im not very ambiti...  \n",
       "1          im updating my blog because i feel shitty  \n",
       "2  i never make her separate from me because i do...  \n",
       "3  i left with my bouquet of red and yellow tulip...  \n",
       "4    i was feeling a little vain when i did this one  "
      ]
     },
     "execution_count": 26,
     "metadata": {},
     "output_type": "execute_result"
    }
   ],
   "source": [
    "#defining the function to remove punctuation\n",
    "def remove_punctuation(text):\n",
    "    punctuationfree=\"\".join([i for i in text if i not in string.punctuation])\n",
    "    return punctuationfree\n",
    "\n",
    "#storing the puntuation free text\n",
    "df_test['clean_sen']= df_test['sentence'].apply(lambda x:remove_punctuation(x))\n",
    "df_test.head()"
   ]
  },
  {
   "cell_type": "code",
   "execution_count": 27,
   "id": "d3810f4d-3731-48aa-91f8-ba935ebb9a2b",
   "metadata": {},
   "outputs": [
    {
     "name": "stdout",
     "output_type": "stream",
     "text": [
      "['accurate', 'accurately', 'accused', 'accuser', 'accusing', 'accustomed', 'ace', 'ache', 'ached', 'acheivment', 'aches', 'achieve', 'achieved', 'achievement', 'achievements', 'achieving', 'aching', 'achy', 'acim', 'acker', 'acknowledge', 'acknowledged', 'acknowledgement', 'acknowledgment', 'acne', 'aconfident', 'acquaint', 'acquaintances', 'acquainted', 'acquire', 'acronym', 'across', 'act', 'actauly', 'acted', 'acting', 'action', 'actions', 'activations', 'active', 'actively', 'activism', 'activist', 'activities', 'activity', 'actor', 'actors', 'actresses', 'acts', 'actual']\n"
     ]
    },
    {
     "name": "stderr",
     "output_type": "stream",
     "text": [
      "/Library/Frameworks/Python.framework/Versions/3.10/lib/python3.10/site-packages/sklearn/utils/deprecation.py:87: FutureWarning: Function get_feature_names is deprecated; get_feature_names is deprecated in 1.0 and will be removed in 1.2. Please use get_feature_names_out instead.\n",
      "  warnings.warn(msg, category=FutureWarning)\n"
     ]
    }
   ],
   "source": [
    "# Vectorization of input text, to feed to Machine Learning model\n",
    "X_test = vectorizer.transform(df_test.clean_sen)\n",
    "print(vectorizer.get_feature_names()[100:150])"
   ]
  },
  {
   "cell_type": "code",
   "execution_count": 28,
   "id": "35bbcf87-7c2b-4639-a2f9-9c9058f9ba96",
   "metadata": {},
   "outputs": [
    {
     "name": "stdout",
     "output_type": "stream",
     "text": [
      "                                            sentence  tag  \\\n",
      "0  im feeling rather rotten so im not very ambiti...    4   \n",
      "1          im updating my blog because i feel shitty    4   \n",
      "2  i never make her separate from me because i do...    4   \n",
      "3  i left with my bouquet of red and yellow tulip...    2   \n",
      "4    i was feeling a little vain when i did this one    4   \n",
      "\n",
      "                                           clean_sen  \n",
      "0  im feeling rather rotten so im not very ambiti...  \n",
      "1          im updating my blog because i feel shitty  \n",
      "2  i never make her separate from me because i do...  \n",
      "3  i left with my bouquet of red and yellow tulip...  \n",
      "4    i was feeling a little vain when i did this one  \n",
      "(1934,)\n"
     ]
    }
   ],
   "source": [
    "# encding the tags\n",
    "def encoder(df, col):\n",
    "    df[col] = df[col].astype('category')\n",
    "    df[col] = df[col].cat.codes\n",
    "    return df\n",
    "\n",
    "df_test = encoder(df_test, 'tag')\n",
    "print(df_test.head())\n",
    "\n",
    "y_test = df_test.tag\n",
    "print(y_test.shape)"
   ]
  },
  {
   "cell_type": "code",
   "execution_count": 29,
   "id": "ffbd776b-434d-4d17-9766-a4fda5db87a1",
   "metadata": {},
   "outputs": [
    {
     "name": "stdout",
     "output_type": "stream",
     "text": [
      "(1934, 14891) (1934,)\n"
     ]
    },
    {
     "data": {
      "text/plain": [
       "(array([[0, 0, 0, ..., 0, 0, 0],\n",
       "        [0, 0, 0, ..., 0, 0, 0],\n",
       "        [0, 0, 0, ..., 0, 0, 0],\n",
       "        ...,\n",
       "        [0, 0, 0, ..., 0, 0, 0],\n",
       "        [0, 0, 0, ..., 0, 0, 0],\n",
       "        [0, 0, 0, ..., 0, 0, 0]]),\n",
       " 0       4\n",
       " 1       4\n",
       " 2       4\n",
       " 3       2\n",
       " 4       4\n",
       "        ..\n",
       " 1995    0\n",
       " 1996    0\n",
       " 1997    2\n",
       " 1998    2\n",
       " 1999    1\n",
       " Name: tag, Length: 1934, dtype: int8)"
      ]
     },
     "execution_count": 29,
     "metadata": {},
     "output_type": "execute_result"
    }
   ],
   "source": [
    "# X_test to numpy array\n",
    "X_test = X_test.toarray()\n",
    "\n",
    "# shape of X and y\n",
    "print(X_test.shape, y_test.shape)\n",
    "X_test, y_test"
   ]
  },
  {
   "cell_type": "code",
   "execution_count": 30,
   "id": "56dc50ed-d15f-42a8-88c3-2219a218ef19",
   "metadata": {},
   "outputs": [
    {
     "name": "stdout",
     "output_type": "stream",
     "text": [
      "Train accuracy 90.0 %\n"
     ]
    }
   ],
   "source": [
    "# making the prediction using the trained model\n",
    "y_pred = clf.predict(X_test)\n",
    "\n",
    "# accuracy of the model\n",
    "scoreTrain = clf.score(X_test, y_test)\n",
    "print(f\"Train accuracy {round(scoreTrain * 100,0)} %\")"
   ]
  },
  {
   "cell_type": "code",
   "execution_count": null,
   "id": "0c1b7be6-e169-4c2f-afbe-c7431dfdb14d",
   "metadata": {},
   "outputs": [],
   "source": []
  },
  {
   "cell_type": "markdown",
   "id": "177eca8a",
   "metadata": {},
   "source": [
    "# Part 4\n",
    "\n",
    "Saving model and vectorizer\n",
    "\n",
    "Custom Input"
   ]
  },
  {
   "cell_type": "code",
   "execution_count": 31,
   "id": "3db24eb5-b812-4d42-ad6c-673e5dfbbf46",
   "metadata": {},
   "outputs": [
    {
     "name": "stdout",
     "output_type": "stream",
     "text": [
      "i feel like i m defective or something for not having baby fever 4\n"
     ]
    }
   ],
   "source": [
    "# Checking for values in test dataset and there tags\n",
    "print(df_test.sentence[34], df_test.tag[34])"
   ]
  },
  {
   "cell_type": "code",
   "execution_count": 32,
   "id": "431b199a-6563-473e-a0cb-32ea7815729a",
   "metadata": {},
   "outputs": [
    {
     "data": {
      "text/plain": [
       "'i have been with petronas for years i feel that petronas has performed well and made a huge profit'"
      ]
     },
     "execution_count": 32,
     "metadata": {},
     "output_type": "execute_result"
    }
   ],
   "source": [
    "df_train[df_train.tag == 'joy']\n",
    "df_train.sentence[8]"
   ]
  },
  {
   "cell_type": "code",
   "execution_count": 33,
   "id": "af1b1efa-0f95-4bcd-a67c-7b71301a7bcc",
   "metadata": {},
   "outputs": [
    {
     "name": "stdout",
     "output_type": "stream",
     "text": [
      "[4 0 3 1 2]\n"
     ]
    },
    {
     "data": {
      "text/plain": [
       "array([4, 0, 3, 1, 2], dtype=int8)"
      ]
     },
     "execution_count": 33,
     "metadata": {},
     "output_type": "execute_result"
    }
   ],
   "source": [
    "print(y.unique())\n",
    "df_train.tag.unique()"
   ]
  },
  {
   "cell_type": "code",
   "execution_count": 34,
   "id": "f16cc3e8-1f94-4819-a2eb-87bb3ecc4c07",
   "metadata": {},
   "outputs": [],
   "source": [
    "#saving vectorizer and model for later use\n",
    "import pickle\n",
    "\n",
    "with open('finalized_model.pkl', 'wb') as fout:\n",
    "    pickle.dump((vectorizer, clf), fout)"
   ]
  },
  {
   "cell_type": "code",
   "execution_count": null,
   "id": "768a9caa-a702-46a7-98ff-ac3147d4f4ef",
   "metadata": {},
   "outputs": [],
   "source": []
  },
  {
   "cell_type": "code",
   "execution_count": null,
   "id": "532dc918-e392-454f-9595-7891052bbe2b",
   "metadata": {},
   "outputs": [],
   "source": []
  },
  {
   "cell_type": "code",
   "execution_count": 35,
   "id": "92f7c868-f867-4e2e-89b0-582435c68e50",
   "metadata": {},
   "outputs": [],
   "source": [
    "#calling the saved model and vectorizer\n",
    "import pickle\n",
    "\n",
    "with open('finalized_model.pkl', 'rb') as f:\n",
    "    vectorizer, clf = pickle.load(f)"
   ]
  },
  {
   "cell_type": "code",
   "execution_count": 36,
   "id": "593fd63f-3757-4e92-89d4-0289e41e42d0",
   "metadata": {},
   "outputs": [
    {
     "data": {
      "text/plain": [
       "{4: 'sadness', 3: 'anger', 1: 'love', 0: 'fear', 2: 'joy'}"
      ]
     },
     "execution_count": 36,
     "metadata": {},
     "output_type": "execute_result"
    }
   ],
   "source": [
    "# dictionary (convert the numeric result back to text)\n",
    "dic = {4: 'sadness', 3:'anger', 1:'love', 0:'fear', 2:'joy'}\n",
    "dic"
   ]
  },
  {
   "cell_type": "code",
   "execution_count": 37,
   "id": "fb17147c-5c2b-401a-9e36-540c60b96ed7",
   "metadata": {},
   "outputs": [],
   "source": [
    "# taking input sentence from the user\n",
    "sen = input()"
   ]
  },
  {
   "cell_type": "code",
   "execution_count": 38,
   "id": "522a7e1e-f6ba-4776-83d5-d950c3cdcacb",
   "metadata": {},
   "outputs": [
    {
     "data": {
      "text/plain": [
       "'Fealing awesome'"
      ]
     },
     "execution_count": 38,
     "metadata": {},
     "output_type": "execute_result"
    }
   ],
   "source": [
    "sen"
   ]
  },
  {
   "cell_type": "code",
   "execution_count": 39,
   "id": "89777775-1b37-44be-b424-ae5c41c41d37",
   "metadata": {},
   "outputs": [
    {
     "name": "stdout",
     "output_type": "stream",
     "text": [
      "Input sentence: Fealing awesome\n",
      "Prediction:  joy\n"
     ]
    }
   ],
   "source": [
    "import string\n",
    "\n",
    "#defining the function to remove punctuation\n",
    "def remove_punctuation(text):\n",
    "    punctuationfree=\"\".join([i for i in text if i not in string.punctuation])\n",
    "    return punctuationfree\n",
    "\n",
    "pun_sen = remove_punctuation(sen)\n",
    "\n",
    "vec_sen = vectorizer.transform([pun_sen])\n",
    "\n",
    "y_pred = clf.predict(vec_sen)\n",
    "print(f'Input sentence: {sen}')\n",
    "print(\"Prediction: \", dic[y_pred[0]])"
   ]
  },
  {
   "cell_type": "code",
   "execution_count": null,
   "id": "489f6107-df05-4d79-98cf-cb7cd3b173c3",
   "metadata": {},
   "outputs": [],
   "source": []
  }
 ],
 "metadata": {
  "kernelspec": {
   "display_name": "Python 3.10.1 64-bit",
   "language": "python",
   "name": "python3"
  },
  "language_info": {
   "codemirror_mode": {
    "name": "ipython",
    "version": 3
   },
   "file_extension": ".py",
   "mimetype": "text/x-python",
   "name": "python",
   "nbconvert_exporter": "python",
   "pygments_lexer": "ipython3",
   "version": "3.10.1"
  },
  "vscode": {
   "interpreter": {
    "hash": "aee8b7b246df8f9039afb4144a1f6fd8d2ca17a180786b69acc140d282b71a49"
   }
  }
 },
 "nbformat": 4,
 "nbformat_minor": 5
}
